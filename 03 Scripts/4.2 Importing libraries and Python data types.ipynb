{
 "cells": [
  {
   "cell_type": "markdown",
   "id": "25e26ec7",
   "metadata": {},
   "source": [
    "# 01. Importing libraries"
   ]
  },
  {
   "cell_type": "code",
   "execution_count": 1,
   "id": "7f3e2e90",
   "metadata": {},
   "outputs": [],
   "source": [
    "# Import libraries \n",
    "import pandas as pd\n",
    "import numpy as np\n",
    "import os"
   ]
  },
  {
   "cell_type": "markdown",
   "id": "74d93658",
   "metadata": {},
   "source": [
    "# 02. Python data types"
   ]
  },
  {
   "cell_type": "code",
   "execution_count": 2,
   "id": "d6b286c0",
   "metadata": {},
   "outputs": [
    {
     "data": {
      "text/plain": [
       "100"
      ]
     },
     "execution_count": 2,
     "metadata": {},
     "output_type": "execute_result"
    }
   ],
   "source": [
    "50 +50"
   ]
  },
  {
   "cell_type": "code",
   "execution_count": 3,
   "id": "13b8c4fd",
   "metadata": {},
   "outputs": [
    {
     "data": {
      "text/plain": [
       "100"
      ]
     },
     "execution_count": 3,
     "metadata": {},
     "output_type": "execute_result"
    }
   ],
   "source": [
    "125 - 25"
   ]
  },
  {
   "cell_type": "code",
   "execution_count": 4,
   "id": "8b789283",
   "metadata": {},
   "outputs": [],
   "source": [
    "x = 28"
   ]
  },
  {
   "cell_type": "code",
   "execution_count": 5,
   "id": "94bb51a0",
   "metadata": {},
   "outputs": [
    {
     "data": {
      "text/plain": [
       "100"
      ]
     },
     "execution_count": 5,
     "metadata": {},
     "output_type": "execute_result"
    }
   ],
   "source": [
    "x + 72"
   ]
  },
  {
   "cell_type": "code",
   "execution_count": 6,
   "id": "524858ad",
   "metadata": {},
   "outputs": [],
   "source": [
    "x = 5.8\n",
    "y = 7.9 "
   ]
  },
  {
   "cell_type": "code",
   "execution_count": 7,
   "id": "043e1b69",
   "metadata": {},
   "outputs": [
    {
     "data": {
      "text/plain": [
       "0.7341772151898733"
      ]
     },
     "execution_count": 7,
     "metadata": {},
     "output_type": "execute_result"
    }
   ],
   "source": [
    "x/y "
   ]
  },
  {
   "cell_type": "code",
   "execution_count": 24,
   "id": "7a376816",
   "metadata": {},
   "outputs": [],
   "source": [
    "a = 'foot'\n",
    "b = 'ball'"
   ]
  },
  {
   "cell_type": "code",
   "execution_count": 25,
   "id": "47c835c9",
   "metadata": {},
   "outputs": [
    {
     "data": {
      "text/plain": [
       "'football'"
      ]
     },
     "execution_count": 25,
     "metadata": {},
     "output_type": "execute_result"
    }
   ],
   "source": [
    "a+b"
   ]
  },
  {
   "cell_type": "code",
   "execution_count": 21,
   "id": "21368020",
   "metadata": {},
   "outputs": [],
   "source": [
    "a = 'Hello,'\n",
    "b = ' this'\n",
    "c = ' is'\n",
    "d = ' Luca'"
   ]
  },
  {
   "cell_type": "code",
   "execution_count": 22,
   "id": "6a4431eb",
   "metadata": {},
   "outputs": [
    {
     "data": {
      "text/plain": [
       "'Hello, this is Luca'"
      ]
     },
     "execution_count": 22,
     "metadata": {},
     "output_type": "execute_result"
    }
   ],
   "source": [
    "a + b + c + d"
   ]
  },
  {
   "cell_type": "code",
   "execution_count": 28,
   "id": "c9d9abe1",
   "metadata": {},
   "outputs": [],
   "source": [
    "a = 'How'\n",
    "b = ' are'\n",
    "c = ' you?'"
   ]
  },
  {
   "cell_type": "code",
   "execution_count": 29,
   "id": "30ea73ec",
   "metadata": {},
   "outputs": [
    {
     "data": {
      "text/plain": [
       "'How are you?'"
      ]
     },
     "execution_count": 29,
     "metadata": {},
     "output_type": "execute_result"
    }
   ],
   "source": [
    "a + b + c"
   ]
  },
  {
   "cell_type": "code",
   "execution_count": null,
   "id": "09d5ca9a",
   "metadata": {},
   "outputs": [],
   "source": []
  }
 ],
 "metadata": {
  "kernelspec": {
   "display_name": "Python 3 (ipykernel)",
   "language": "python",
   "name": "python3"
  },
  "language_info": {
   "codemirror_mode": {
    "name": "ipython",
    "version": 3
   },
   "file_extension": ".py",
   "mimetype": "text/x-python",
   "name": "python",
   "nbconvert_exporter": "python",
   "pygments_lexer": "ipython3",
   "version": "3.9.13"
  }
 },
 "nbformat": 4,
 "nbformat_minor": 5
}
